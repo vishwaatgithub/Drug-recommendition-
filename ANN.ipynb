{
 "cells": [
  {
   "cell_type": "code",
   "execution_count": 1,
   "metadata": {
    "id": "y9peQ9SGHUr0"
   },
   "outputs": [],
   "source": [
    "import pandas as pd # data preprocessing\n",
    "import itertools # confusion matrix\n",
    "import string\n",
    "import numpy as np\n",
    "import seaborn as sns\n",
    "from sklearn.feature_extraction.text import CountVectorizer, TfidfVectorizer\n",
    "from sklearn.model_selection import train_test_split\n",
    "from sklearn.linear_model import PassiveAggressiveClassifier\n",
    "from sklearn.naive_bayes import MultinomialNB\n",
    "from sklearn import metrics\n",
    "import matplotlib.pyplot as plt\n",
    "%matplotlib inline\n",
    "# To show all the rows of pandas dataframe\n",
    "pd.set_option('display.max_rows', None)"
   ]
  },
  {
   "cell_type": "code",
   "execution_count": 2,
   "metadata": {
    "colab": {
     "base_uri": "https://localhost:8080/",
     "height": 206
    },
    "id": "62yPgWpuHzSj",
    "outputId": "c32f1d4d-e067-4413-df7d-83a204ca760e"
   },
   "outputs": [
    {
     "data": {
      "text/html": [
       "\n",
       "  <div id=\"df-8e9e401e-9dd3-4cae-8119-894c20c94b61\">\n",
       "    <div class=\"colab-df-container\">\n",
       "      <div>\n",
       "<style scoped>\n",
       "    .dataframe tbody tr th:only-of-type {\n",
       "        vertical-align: middle;\n",
       "    }\n",
       "\n",
       "    .dataframe tbody tr th {\n",
       "        vertical-align: top;\n",
       "    }\n",
       "\n",
       "    .dataframe thead th {\n",
       "        text-align: right;\n",
       "    }\n",
       "</style>\n",
       "<table border=\"1\" class=\"dataframe\">\n",
       "  <thead>\n",
       "    <tr style=\"text-align: right;\">\n",
       "      <th></th>\n",
       "      <th>Unnamed: 0</th>\n",
       "      <th>drugName</th>\n",
       "      <th>condition</th>\n",
       "      <th>review</th>\n",
       "      <th>rating</th>\n",
       "      <th>date</th>\n",
       "      <th>usefulCount</th>\n",
       "    </tr>\n",
       "  </thead>\n",
       "  <tbody>\n",
       "    <tr>\n",
       "      <th>0</th>\n",
       "      <td>75612</td>\n",
       "      <td>L-methylfolate</td>\n",
       "      <td>Depression</td>\n",
       "      <td>\"I have taken anti-depressants for years, with...</td>\n",
       "      <td>10</td>\n",
       "      <td>March 9, 2017</td>\n",
       "      <td>54</td>\n",
       "    </tr>\n",
       "    <tr>\n",
       "      <th>1</th>\n",
       "      <td>96233</td>\n",
       "      <td>Sertraline</td>\n",
       "      <td>Depression</td>\n",
       "      <td>\"1 week on Zoloft for anxiety and mood swings....</td>\n",
       "      <td>8</td>\n",
       "      <td>May 7, 2011</td>\n",
       "      <td>3</td>\n",
       "    </tr>\n",
       "    <tr>\n",
       "      <th>2</th>\n",
       "      <td>121333</td>\n",
       "      <td>Venlafaxine</td>\n",
       "      <td>Depression</td>\n",
       "      <td>\"my gp started me on Venlafaxine yesterday to ...</td>\n",
       "      <td>4</td>\n",
       "      <td>April 27, 2016</td>\n",
       "      <td>3</td>\n",
       "    </tr>\n",
       "    <tr>\n",
       "      <th>3</th>\n",
       "      <td>156544</td>\n",
       "      <td>Dulaglutide</td>\n",
       "      <td>Diabetes, Type 2</td>\n",
       "      <td>\"Hey Guys,  It&amp;#039;s been 4 months since my l...</td>\n",
       "      <td>10</td>\n",
       "      <td>October 24, 2017</td>\n",
       "      <td>24</td>\n",
       "    </tr>\n",
       "    <tr>\n",
       "      <th>4</th>\n",
       "      <td>131909</td>\n",
       "      <td>Effexor XR</td>\n",
       "      <td>Depression</td>\n",
       "      <td>\"This medicine saved my life. I was at my wits...</td>\n",
       "      <td>10</td>\n",
       "      <td>June 20, 2013</td>\n",
       "      <td>166</td>\n",
       "    </tr>\n",
       "  </tbody>\n",
       "</table>\n",
       "</div>\n",
       "      <button class=\"colab-df-convert\" onclick=\"convertToInteractive('df-8e9e401e-9dd3-4cae-8119-894c20c94b61')\"\n",
       "              title=\"Convert this dataframe to an interactive table.\"\n",
       "              style=\"display:none;\">\n",
       "        \n",
       "  <svg xmlns=\"http://www.w3.org/2000/svg\" height=\"24px\"viewBox=\"0 0 24 24\"\n",
       "       width=\"24px\">\n",
       "    <path d=\"M0 0h24v24H0V0z\" fill=\"none\"/>\n",
       "    <path d=\"M18.56 5.44l.94 2.06.94-2.06 2.06-.94-2.06-.94-.94-2.06-.94 2.06-2.06.94zm-11 1L8.5 8.5l.94-2.06 2.06-.94-2.06-.94L8.5 2.5l-.94 2.06-2.06.94zm10 10l.94 2.06.94-2.06 2.06-.94-2.06-.94-.94-2.06-.94 2.06-2.06.94z\"/><path d=\"M17.41 7.96l-1.37-1.37c-.4-.4-.92-.59-1.43-.59-.52 0-1.04.2-1.43.59L10.3 9.45l-7.72 7.72c-.78.78-.78 2.05 0 2.83L4 21.41c.39.39.9.59 1.41.59.51 0 1.02-.2 1.41-.59l7.78-7.78 2.81-2.81c.8-.78.8-2.07 0-2.86zM5.41 20L4 18.59l7.72-7.72 1.47 1.35L5.41 20z\"/>\n",
       "  </svg>\n",
       "      </button>\n",
       "      \n",
       "  <style>\n",
       "    .colab-df-container {\n",
       "      display:flex;\n",
       "      flex-wrap:wrap;\n",
       "      gap: 12px;\n",
       "    }\n",
       "\n",
       "    .colab-df-convert {\n",
       "      background-color: #E8F0FE;\n",
       "      border: none;\n",
       "      border-radius: 50%;\n",
       "      cursor: pointer;\n",
       "      display: none;\n",
       "      fill: #1967D2;\n",
       "      height: 32px;\n",
       "      padding: 0 0 0 0;\n",
       "      width: 32px;\n",
       "    }\n",
       "\n",
       "    .colab-df-convert:hover {\n",
       "      background-color: #E2EBFA;\n",
       "      box-shadow: 0px 1px 2px rgba(60, 64, 67, 0.3), 0px 1px 3px 1px rgba(60, 64, 67, 0.15);\n",
       "      fill: #174EA6;\n",
       "    }\n",
       "\n",
       "    [theme=dark] .colab-df-convert {\n",
       "      background-color: #3B4455;\n",
       "      fill: #D2E3FC;\n",
       "    }\n",
       "\n",
       "    [theme=dark] .colab-df-convert:hover {\n",
       "      background-color: #434B5C;\n",
       "      box-shadow: 0px 1px 3px 1px rgba(0, 0, 0, 0.15);\n",
       "      filter: drop-shadow(0px 1px 2px rgba(0, 0, 0, 0.3));\n",
       "      fill: #FFFFFF;\n",
       "    }\n",
       "  </style>\n",
       "\n",
       "      <script>\n",
       "        const buttonEl =\n",
       "          document.querySelector('#df-8e9e401e-9dd3-4cae-8119-894c20c94b61 button.colab-df-convert');\n",
       "        buttonEl.style.display =\n",
       "          google.colab.kernel.accessAllowed ? 'block' : 'none';\n",
       "\n",
       "        async function convertToInteractive(key) {\n",
       "          const element = document.querySelector('#df-8e9e401e-9dd3-4cae-8119-894c20c94b61');\n",
       "          const dataTable =\n",
       "            await google.colab.kernel.invokeFunction('convertToInteractive',\n",
       "                                                     [key], {});\n",
       "          if (!dataTable) return;\n",
       "\n",
       "          const docLinkHtml = 'Like what you see? Visit the ' +\n",
       "            '<a target=\"_blank\" href=https://colab.research.google.com/notebooks/data_table.ipynb>data table notebook</a>'\n",
       "            + ' to learn more about interactive tables.';\n",
       "          element.innerHTML = '';\n",
       "          dataTable['output_type'] = 'display_data';\n",
       "          await google.colab.output.renderOutput(dataTable, element);\n",
       "          const docLink = document.createElement('div');\n",
       "          docLink.innerHTML = docLinkHtml;\n",
       "          element.appendChild(docLink);\n",
       "        }\n",
       "      </script>\n",
       "    </div>\n",
       "  </div>\n",
       "  "
      ],
      "text/plain": [
       "   Unnamed: 0        drugName         condition  \\\n",
       "0       75612  L-methylfolate        Depression   \n",
       "1       96233      Sertraline        Depression   \n",
       "2      121333     Venlafaxine        Depression   \n",
       "3      156544     Dulaglutide  Diabetes, Type 2   \n",
       "4      131909      Effexor XR        Depression   \n",
       "\n",
       "                                              review  rating  \\\n",
       "0  \"I have taken anti-depressants for years, with...      10   \n",
       "1  \"1 week on Zoloft for anxiety and mood swings....       8   \n",
       "2  \"my gp started me on Venlafaxine yesterday to ...       4   \n",
       "3  \"Hey Guys,  It&#039;s been 4 months since my l...      10   \n",
       "4  \"This medicine saved my life. I was at my wits...      10   \n",
       "\n",
       "               date  usefulCount  \n",
       "0     March 9, 2017           54  \n",
       "1       May 7, 2011            3  \n",
       "2    April 27, 2016            3  \n",
       "3  October 24, 2017           24  \n",
       "4     June 20, 2013          166  "
      ]
     },
     "execution_count": 2,
     "metadata": {},
     "output_type": "execute_result"
    }
   ],
   "source": [
    "X = pd.read_csv('filtered_df.csv')\n",
    "X.head()"
   ]
  },
  {
   "cell_type": "code",
   "execution_count": 3,
   "metadata": {
    "colab": {
     "base_uri": "https://localhost:8080/"
    },
    "id": "WDDNi5MCID3W",
    "outputId": "f70c1c0c-e535-43a7-aa91-31aaef645c08"
   },
   "outputs": [
    {
     "data": {
      "text/plain": [
       "Depression             9069\n",
       "Diabetes, Type 2       2554\n",
       "High Blood Pressure    2321\n",
       "Name: condition, dtype: int64"
      ]
     },
     "execution_count": 3,
     "metadata": {},
     "output_type": "execute_result"
    }
   ],
   "source": [
    "X.condition.value_counts()\n"
   ]
  },
  {
   "cell_type": "code",
   "execution_count": 4,
   "metadata": {
    "colab": {
     "base_uri": "https://localhost:8080/",
     "height": 206
    },
    "id": "9kAPk7KsQ02s",
    "outputId": "ca7e0c48-5db7-45f5-b2e4-a4c4c6566d70"
   },
   "outputs": [
    {
     "data": {
      "text/html": [
       "\n",
       "  <div id=\"df-688c8027-0336-4348-b6cf-1e4506494e87\">\n",
       "    <div class=\"colab-df-container\">\n",
       "      <div>\n",
       "<style scoped>\n",
       "    .dataframe tbody tr th:only-of-type {\n",
       "        vertical-align: middle;\n",
       "    }\n",
       "\n",
       "    .dataframe tbody tr th {\n",
       "        vertical-align: top;\n",
       "    }\n",
       "\n",
       "    .dataframe thead th {\n",
       "        text-align: right;\n",
       "    }\n",
       "</style>\n",
       "<table border=\"1\" class=\"dataframe\">\n",
       "  <thead>\n",
       "    <tr style=\"text-align: right;\">\n",
       "      <th></th>\n",
       "      <th>condition</th>\n",
       "      <th>review</th>\n",
       "    </tr>\n",
       "  </thead>\n",
       "  <tbody>\n",
       "    <tr>\n",
       "      <th>0</th>\n",
       "      <td>Depression</td>\n",
       "      <td>\"I have taken anti-depressants for years, with...</td>\n",
       "    </tr>\n",
       "    <tr>\n",
       "      <th>1</th>\n",
       "      <td>Depression</td>\n",
       "      <td>\"1 week on Zoloft for anxiety and mood swings....</td>\n",
       "    </tr>\n",
       "    <tr>\n",
       "      <th>2</th>\n",
       "      <td>Depression</td>\n",
       "      <td>\"my gp started me on Venlafaxine yesterday to ...</td>\n",
       "    </tr>\n",
       "    <tr>\n",
       "      <th>3</th>\n",
       "      <td>Diabetes, Type 2</td>\n",
       "      <td>\"Hey Guys,  It&amp;#039;s been 4 months since my l...</td>\n",
       "    </tr>\n",
       "    <tr>\n",
       "      <th>4</th>\n",
       "      <td>Depression</td>\n",
       "      <td>\"This medicine saved my life. I was at my wits...</td>\n",
       "    </tr>\n",
       "  </tbody>\n",
       "</table>\n",
       "</div>\n",
       "      <button class=\"colab-df-convert\" onclick=\"convertToInteractive('df-688c8027-0336-4348-b6cf-1e4506494e87')\"\n",
       "              title=\"Convert this dataframe to an interactive table.\"\n",
       "              style=\"display:none;\">\n",
       "        \n",
       "  <svg xmlns=\"http://www.w3.org/2000/svg\" height=\"24px\"viewBox=\"0 0 24 24\"\n",
       "       width=\"24px\">\n",
       "    <path d=\"M0 0h24v24H0V0z\" fill=\"none\"/>\n",
       "    <path d=\"M18.56 5.44l.94 2.06.94-2.06 2.06-.94-2.06-.94-.94-2.06-.94 2.06-2.06.94zm-11 1L8.5 8.5l.94-2.06 2.06-.94-2.06-.94L8.5 2.5l-.94 2.06-2.06.94zm10 10l.94 2.06.94-2.06 2.06-.94-2.06-.94-.94-2.06-.94 2.06-2.06.94z\"/><path d=\"M17.41 7.96l-1.37-1.37c-.4-.4-.92-.59-1.43-.59-.52 0-1.04.2-1.43.59L10.3 9.45l-7.72 7.72c-.78.78-.78 2.05 0 2.83L4 21.41c.39.39.9.59 1.41.59.51 0 1.02-.2 1.41-.59l7.78-7.78 2.81-2.81c.8-.78.8-2.07 0-2.86zM5.41 20L4 18.59l7.72-7.72 1.47 1.35L5.41 20z\"/>\n",
       "  </svg>\n",
       "      </button>\n",
       "      \n",
       "  <style>\n",
       "    .colab-df-container {\n",
       "      display:flex;\n",
       "      flex-wrap:wrap;\n",
       "      gap: 12px;\n",
       "    }\n",
       "\n",
       "    .colab-df-convert {\n",
       "      background-color: #E8F0FE;\n",
       "      border: none;\n",
       "      border-radius: 50%;\n",
       "      cursor: pointer;\n",
       "      display: none;\n",
       "      fill: #1967D2;\n",
       "      height: 32px;\n",
       "      padding: 0 0 0 0;\n",
       "      width: 32px;\n",
       "    }\n",
       "\n",
       "    .colab-df-convert:hover {\n",
       "      background-color: #E2EBFA;\n",
       "      box-shadow: 0px 1px 2px rgba(60, 64, 67, 0.3), 0px 1px 3px 1px rgba(60, 64, 67, 0.15);\n",
       "      fill: #174EA6;\n",
       "    }\n",
       "\n",
       "    [theme=dark] .colab-df-convert {\n",
       "      background-color: #3B4455;\n",
       "      fill: #D2E3FC;\n",
       "    }\n",
       "\n",
       "    [theme=dark] .colab-df-convert:hover {\n",
       "      background-color: #434B5C;\n",
       "      box-shadow: 0px 1px 3px 1px rgba(0, 0, 0, 0.15);\n",
       "      filter: drop-shadow(0px 1px 2px rgba(0, 0, 0, 0.3));\n",
       "      fill: #FFFFFF;\n",
       "    }\n",
       "  </style>\n",
       "\n",
       "      <script>\n",
       "        const buttonEl =\n",
       "          document.querySelector('#df-688c8027-0336-4348-b6cf-1e4506494e87 button.colab-df-convert');\n",
       "        buttonEl.style.display =\n",
       "          google.colab.kernel.accessAllowed ? 'block' : 'none';\n",
       "\n",
       "        async function convertToInteractive(key) {\n",
       "          const element = document.querySelector('#df-688c8027-0336-4348-b6cf-1e4506494e87');\n",
       "          const dataTable =\n",
       "            await google.colab.kernel.invokeFunction('convertToInteractive',\n",
       "                                                     [key], {});\n",
       "          if (!dataTable) return;\n",
       "\n",
       "          const docLinkHtml = 'Like what you see? Visit the ' +\n",
       "            '<a target=\"_blank\" href=https://colab.research.google.com/notebooks/data_table.ipynb>data table notebook</a>'\n",
       "            + ' to learn more about interactive tables.';\n",
       "          element.innerHTML = '';\n",
       "          dataTable['output_type'] = 'display_data';\n",
       "          await google.colab.output.renderOutput(dataTable, element);\n",
       "          const docLink = document.createElement('div');\n",
       "          docLink.innerHTML = docLinkHtml;\n",
       "          element.appendChild(docLink);\n",
       "        }\n",
       "      </script>\n",
       "    </div>\n",
       "  </div>\n",
       "  "
      ],
      "text/plain": [
       "          condition                                             review\n",
       "0        Depression  \"I have taken anti-depressants for years, with...\n",
       "1        Depression  \"1 week on Zoloft for anxiety and mood swings....\n",
       "2        Depression  \"my gp started me on Venlafaxine yesterday to ...\n",
       "3  Diabetes, Type 2  \"Hey Guys,  It&#039;s been 4 months since my l...\n",
       "4        Depression  \"This medicine saved my life. I was at my wits..."
      ]
     },
     "execution_count": 4,
     "metadata": {},
     "output_type": "execute_result"
    }
   ],
   "source": [
    "X1 = X.drop(['Unnamed: 0','drugName','rating','date','usefulCount'],axis=1)\n",
    "X1.head()"
   ]
  },
  {
   "cell_type": "code",
   "execution_count": 5,
   "metadata": {
    "colab": {
     "base_uri": "https://localhost:8080/"
    },
    "id": "jCi85T0rRCN9",
    "outputId": "2f92a796-4876-4494-bbbe-a2a5e6e71974"
   },
   "outputs": [
    {
     "data": {
      "text/plain": [
       "Depression             9069\n",
       "Diabetes, Type 2       2554\n",
       "High Blood Pressure    2321\n",
       "Name: condition, dtype: int64"
      ]
     },
     "execution_count": 5,
     "metadata": {},
     "output_type": "execute_result"
    }
   ],
   "source": [
    "X1.condition.value_counts()"
   ]
  },
  {
   "cell_type": "code",
   "execution_count": 5,
   "metadata": {
    "id": "qHtj7mAGRCUr"
   },
   "outputs": [],
   "source": []
  },
  {
   "cell_type": "code",
   "execution_count": 6,
   "metadata": {
    "id": "AJnqO1uCIrsp"
   },
   "outputs": [],
   "source": [
    "#data preprocessing"
   ]
  },
  {
   "cell_type": "code",
   "execution_count": 7,
   "metadata": {
    "id": "ms9zT0jmI25I"
   },
   "outputs": [],
   "source": [
    "for i, col in enumerate(X1.columns):\n",
    "    X1.iloc[:, i] = X1.iloc[:, i].str.replace('\"', '')"
   ]
  },
  {
   "cell_type": "code",
   "execution_count": 8,
   "metadata": {
    "colab": {
     "base_uri": "https://localhost:8080/"
    },
    "id": "HEvP53W6I27n",
    "outputId": "1612d29e-028c-4156-d672-cafb7e96b2c5"
   },
   "outputs": [
    {
     "name": "stderr",
     "output_type": "stream",
     "text": [
      "<ipython-input-8-a7edaab304c3>:2: FutureWarning: Passing a negative integer is deprecated in version 1.0 and will not be supported in future version. Instead, use None to not limit the column width.\n",
      "  pd.set_option('max_colwidth', -1)\n"
     ]
    }
   ],
   "source": [
    "# To set the width of the column to maximum\n",
    "pd.set_option('max_colwidth', -1)"
   ]
  },
  {
   "cell_type": "code",
   "execution_count": 9,
   "metadata": {
    "id": "A8gN1phDI2-P"
   },
   "outputs": [],
   "source": [
    "#What are stopwords ?\n",
    "#Stopwords are the most common words in any natural language. For the purpose of building NLP models, these stopwords might not add much value to the meaning of the document.\n",
    "\n",
    "#The most common words used in a text are “the”, “is”, “in”, “for”, “where”, “when”, “to”, “at” etc.\n",
    "\n"
   ]
  },
  {
   "cell_type": "code",
   "execution_count": 10,
   "metadata": {
    "colab": {
     "base_uri": "https://localhost:8080/"
    },
    "id": "S0itL5GCdh68",
    "outputId": "5f2a0d58-3d76-4c19-94e5-c2bfd77c0cea"
   },
   "outputs": [
    {
     "name": "stderr",
     "output_type": "stream",
     "text": [
      "[nltk_data] Downloading package stopwords to /root/nltk_data...\n",
      "[nltk_data]   Package stopwords is already up-to-date!\n"
     ]
    },
    {
     "data": {
      "text/plain": [
       "True"
      ]
     },
     "execution_count": 10,
     "metadata": {},
     "output_type": "execute_result"
    }
   ],
   "source": [
    "import nltk\n",
    "nltk.download('stopwords')"
   ]
  },
  {
   "cell_type": "code",
   "execution_count": 11,
   "metadata": {
    "colab": {
     "base_uri": "https://localhost:8080/"
    },
    "id": "0V5LUSyrI3Al",
    "outputId": "e7f9a2f6-edde-47e4-bd7c-6f38b306536a"
   },
   "outputs": [
    {
     "data": {
      "text/plain": [
       "['i',\n",
       " 'me',\n",
       " 'my',\n",
       " 'myself',\n",
       " 'we',\n",
       " 'our',\n",
       " 'ours',\n",
       " 'ourselves',\n",
       " 'you',\n",
       " \"you're\",\n",
       " \"you've\",\n",
       " \"you'll\",\n",
       " \"you'd\",\n",
       " 'your',\n",
       " 'yours',\n",
       " 'yourself',\n",
       " 'yourselves',\n",
       " 'he',\n",
       " 'him',\n",
       " 'his',\n",
       " 'himself',\n",
       " 'she',\n",
       " \"she's\",\n",
       " 'her',\n",
       " 'hers',\n",
       " 'herself',\n",
       " 'it',\n",
       " \"it's\",\n",
       " 'its',\n",
       " 'itself',\n",
       " 'they',\n",
       " 'them',\n",
       " 'their',\n",
       " 'theirs',\n",
       " 'themselves',\n",
       " 'what',\n",
       " 'which',\n",
       " 'who',\n",
       " 'whom',\n",
       " 'this',\n",
       " 'that',\n",
       " \"that'll\",\n",
       " 'these',\n",
       " 'those',\n",
       " 'am',\n",
       " 'is',\n",
       " 'are',\n",
       " 'was',\n",
       " 'were',\n",
       " 'be',\n",
       " 'been',\n",
       " 'being',\n",
       " 'have',\n",
       " 'has',\n",
       " 'had',\n",
       " 'having',\n",
       " 'do',\n",
       " 'does',\n",
       " 'did',\n",
       " 'doing',\n",
       " 'a',\n",
       " 'an',\n",
       " 'the',\n",
       " 'and',\n",
       " 'but',\n",
       " 'if',\n",
       " 'or',\n",
       " 'because',\n",
       " 'as',\n",
       " 'until',\n",
       " 'while',\n",
       " 'of',\n",
       " 'at',\n",
       " 'by',\n",
       " 'for',\n",
       " 'with',\n",
       " 'about',\n",
       " 'against',\n",
       " 'between',\n",
       " 'into',\n",
       " 'through',\n",
       " 'during',\n",
       " 'before',\n",
       " 'after',\n",
       " 'above',\n",
       " 'below',\n",
       " 'to',\n",
       " 'from',\n",
       " 'up',\n",
       " 'down',\n",
       " 'in',\n",
       " 'out',\n",
       " 'on',\n",
       " 'off',\n",
       " 'over',\n",
       " 'under',\n",
       " 'again',\n",
       " 'further',\n",
       " 'then',\n",
       " 'once',\n",
       " 'here',\n",
       " 'there',\n",
       " 'when',\n",
       " 'where',\n",
       " 'why',\n",
       " 'how',\n",
       " 'all',\n",
       " 'any',\n",
       " 'both',\n",
       " 'each',\n",
       " 'few',\n",
       " 'more',\n",
       " 'most',\n",
       " 'other',\n",
       " 'some',\n",
       " 'such',\n",
       " 'no',\n",
       " 'nor',\n",
       " 'not',\n",
       " 'only',\n",
       " 'own',\n",
       " 'same',\n",
       " 'so',\n",
       " 'than',\n",
       " 'too',\n",
       " 'very',\n",
       " 's',\n",
       " 't',\n",
       " 'can',\n",
       " 'will',\n",
       " 'just',\n",
       " 'don',\n",
       " \"don't\",\n",
       " 'should',\n",
       " \"should've\",\n",
       " 'now',\n",
       " 'd',\n",
       " 'll',\n",
       " 'm',\n",
       " 'o',\n",
       " 're',\n",
       " 've',\n",
       " 'y',\n",
       " 'ain',\n",
       " 'aren',\n",
       " \"aren't\",\n",
       " 'couldn',\n",
       " \"couldn't\",\n",
       " 'didn',\n",
       " \"didn't\",\n",
       " 'doesn',\n",
       " \"doesn't\",\n",
       " 'hadn',\n",
       " \"hadn't\",\n",
       " 'hasn',\n",
       " \"hasn't\",\n",
       " 'haven',\n",
       " \"haven't\",\n",
       " 'isn',\n",
       " \"isn't\",\n",
       " 'ma',\n",
       " 'mightn',\n",
       " \"mightn't\",\n",
       " 'mustn',\n",
       " \"mustn't\",\n",
       " 'needn',\n",
       " \"needn't\",\n",
       " 'shan',\n",
       " \"shan't\",\n",
       " 'shouldn',\n",
       " \"shouldn't\",\n",
       " 'wasn',\n",
       " \"wasn't\",\n",
       " 'weren',\n",
       " \"weren't\",\n",
       " 'won',\n",
       " \"won't\",\n",
       " 'wouldn',\n",
       " \"wouldn't\"]"
      ]
     },
     "execution_count": 11,
     "metadata": {},
     "output_type": "execute_result"
    }
   ],
   "source": [
    "import nltk\n",
    "from nltk.corpus import stopwords\n",
    "\n",
    "stop = stopwords.words('english')\n",
    "stop"
   ]
  },
  {
   "cell_type": "code",
   "execution_count": 12,
   "metadata": {
    "id": "bHtmgFCBI3Dn"
   },
   "outputs": [],
   "source": [
    "#Lemmitization\n",
    "#Lemmatization usually refers to doing things properly with the use of a vocabulary and morphological analysis of words,\n",
    "# normally aiming to remove inflectional endings only and to return the base or dictionary form of a word, which is known as the lemma .\n",
    "\n"
   ]
  },
  {
   "cell_type": "code",
   "execution_count": 13,
   "metadata": {
    "id": "F2CzJrTjJTi7"
   },
   "outputs": [],
   "source": [
    "from nltk.stem import WordNetLemmatizer\n",
    "from nltk.stem import PorterStemmer\n",
    "\n",
    "porter = PorterStemmer()\n",
    "\n",
    "lemmatizer = WordNetLemmatizer()\n"
   ]
  },
  {
   "cell_type": "code",
   "execution_count": 14,
   "metadata": {
    "colab": {
     "base_uri": "https://localhost:8080/"
    },
    "id": "tWQn_2m9JTk3",
    "outputId": "b8cad678-846d-4d4d-e035-91e95656fc8f"
   },
   "outputs": [
    {
     "name": "stdout",
     "output_type": "stream",
     "text": [
      "sportingli\n",
      "veri\n",
      "troubl\n"
     ]
    }
   ],
   "source": [
    "print(porter.stem(\"sportingly\"))\n",
    "print(porter.stem(\"very\"))\n",
    "print(porter.stem(\"troubled\"))"
   ]
  },
  {
   "cell_type": "code",
   "execution_count": 15,
   "metadata": {
    "colab": {
     "base_uri": "https://localhost:8080/"
    },
    "id": "OI_Esd0cdzX7",
    "outputId": "bbed90b5-5826-4966-ed0d-57e45358b49f"
   },
   "outputs": [
    {
     "name": "stderr",
     "output_type": "stream",
     "text": [
      "[nltk_data] Downloading package wordnet to /root/nltk_data...\n",
      "[nltk_data]   Package wordnet is already up-to-date!\n"
     ]
    },
    {
     "data": {
      "text/plain": [
       "True"
      ]
     },
     "execution_count": 15,
     "metadata": {},
     "output_type": "execute_result"
    }
   ],
   "source": [
    "import nltk\n",
    "nltk.download('wordnet')"
   ]
  },
  {
   "cell_type": "code",
   "execution_count": 16,
   "metadata": {
    "colab": {
     "base_uri": "https://localhost:8080/"
    },
    "id": "fT5YPdoQJTnQ",
    "outputId": "933f85e1-62af-4d28-d7dd-04acd256cff5"
   },
   "outputs": [
    {
     "name": "stdout",
     "output_type": "stream",
     "text": [
      "sportingly\n",
      "very\n",
      "troubled\n"
     ]
    }
   ],
   "source": [
    "print(lemmatizer.lemmatize(\"sportingly\"))\n",
    "print(lemmatizer.lemmatize(\"very\"))\n",
    "print(lemmatizer.lemmatize(\"troubled\"))"
   ]
  },
  {
   "cell_type": "code",
   "execution_count": 17,
   "metadata": {
    "id": "RzSFYp3NJTpe"
   },
   "outputs": [],
   "source": [
    "from bs4 import BeautifulSoup\n",
    "import re\n"
   ]
  },
  {
   "cell_type": "code",
   "execution_count": 18,
   "metadata": {
    "id": "2TI1BAe3JTsR"
   },
   "outputs": [],
   "source": [
    "def review_to_words(raw_review):\n",
    "    # 1. Delete HTML \n",
    "    review_text = BeautifulSoup(raw_review, 'html.parser').get_text()\n",
    "    # 2. Make a space\n",
    "    letters_only = re.sub('[^a-zA-Z]', ' ', review_text)\n",
    "    # 3. lower letters\n",
    "    words = letters_only.lower().split()\n",
    "    # 5. Stopwords \n",
    "    meaningful_words = [w for w in words if not w in stop]\n",
    "    # 6. lemmitization\n",
    "    lemmitize_words = [lemmatizer.lemmatize(w) for w in meaningful_words]\n",
    "    # 7. space join words\n",
    "    return( ' '.join(lemmitize_words))"
   ]
  },
  {
   "cell_type": "code",
   "execution_count": 19,
   "metadata": {
    "colab": {
     "base_uri": "https://localhost:8080/",
     "height": 615
    },
    "id": "YJu0bp65JTuz",
    "outputId": "c9a1ec11-2309-41be-e92a-4c7eb1e962d6"
   },
   "outputs": [
    {
     "name": "stderr",
     "output_type": "stream",
     "text": [
      "<ipython-input-18-96d5791fc591>:3: MarkupResemblesLocatorWarning: The input looks more like a filename than markup. You may want to open this file and pass the filehandle into Beautiful Soup.\n",
      "  review_text = BeautifulSoup(raw_review, 'html.parser').get_text()\n"
     ]
    },
    {
     "data": {
      "text/html": [
       "\n",
       "  <div id=\"df-8160856b-c418-4506-b598-74884ce3991a\">\n",
       "    <div class=\"colab-df-container\">\n",
       "      <div>\n",
       "<style scoped>\n",
       "    .dataframe tbody tr th:only-of-type {\n",
       "        vertical-align: middle;\n",
       "    }\n",
       "\n",
       "    .dataframe tbody tr th {\n",
       "        vertical-align: top;\n",
       "    }\n",
       "\n",
       "    .dataframe thead th {\n",
       "        text-align: right;\n",
       "    }\n",
       "</style>\n",
       "<table border=\"1\" class=\"dataframe\">\n",
       "  <thead>\n",
       "    <tr style=\"text-align: right;\">\n",
       "      <th></th>\n",
       "      <th>condition</th>\n",
       "      <th>review</th>\n",
       "      <th>review_clean</th>\n",
       "    </tr>\n",
       "  </thead>\n",
       "  <tbody>\n",
       "    <tr>\n",
       "      <th>0</th>\n",
       "      <td>Depression</td>\n",
       "      <td>I have taken anti-depressants for years, with some improvement but mostly moderate to severe side affects, which makes me go off them.\\n\\nI only take Cymbalta now mostly for pain.\\n\\nWhen I began Deplin, I noticed a major improvement overnight. More energy, better disposition, and no sinking to the low lows of major depression. I have been taking it for about 3 months now and feel like a normal person for the first time ever. Best thing, no side effects.</td>\n",
       "      <td>taken anti depressant year improvement mostly moderate severe side affect make go take cymbalta mostly pain began deplin noticed major improvement overnight energy better disposition sinking low low major depression taking month feel like normal person first time ever best thing side effect</td>\n",
       "    </tr>\n",
       "    <tr>\n",
       "      <th>1</th>\n",
       "      <td>Depression</td>\n",
       "      <td>1 week on Zoloft for anxiety and mood swings. I take 50mg in the mornings with my breakfast. Nausea on day one  but that subsided as the week went on.  I get the jitters about 2 hrs after taking it followed by yawning. I feel much better though and less angry/stressed.</td>\n",
       "      <td>week zoloft anxiety mood swing take mg morning breakfast nausea day one subsided week went get jitter hr taking followed yawning feel much better though le angry stressed</td>\n",
       "    </tr>\n",
       "    <tr>\n",
       "      <th>2</th>\n",
       "      <td>Depression</td>\n",
       "      <td>my gp started me on Venlafaxine yesterday to help with depression and the change,a hour after taking them i was feeling very sick couldn,t stomach food or fluids, thought keep it up as she told me they did come with some side effects which would get better,took another one last night and was so ill i couldn,t stand ,being sick sweating shaking thought i was going to pass out. Did get some sleep hopeing to feel better this morning,took another one and felt so spaced out dry mouth shaking ,sick, so booked in to see gp again to make sure i should be feeling like this, only to find out she had put me on the wrong dose should have been on 37.5mg was put on 150mg, now on right dose hope this will be better</td>\n",
       "      <td>gp started venlafaxine yesterday help depression change hour taking feeling sick stomach food fluid thought keep told come side effect would get better took another one last night ill stand sick sweating shaking thought going pas get sleep hopeing feel better morning took another one felt spaced dry mouth shaking sick booked see gp make sure feeling like find put wrong dose mg put mg right dose hope better</td>\n",
       "    </tr>\n",
       "    <tr>\n",
       "      <th>3</th>\n",
       "      <td>Diabetes, Type 2</td>\n",
       "      <td>Hey Guys,  It&amp;#039;s been 4 months since my last post as I wanted to give it a few months to see how this was going to work.  So, I have been on Trulicity for six months now with Metformin.  When I hit the five month period the diarrhea, gas, sulphur belching finally subsided.  I now longer have any of those side effects.  However, I still haven&amp;#039;t lost any weight at all, but I think that was because when I first started Trulicity I was taking it with Glimepiride and that one has a side effect of weight gain so I think the two meds were fighting each other lol.  I have been back on the Metformin with Trulicity for about a week now, so we will see what this does.  I was diagnosed as  stage 3 chronic kidney disease (CKD 3) so I am watching diet closely.</td>\n",
       "      <td>hey guy month since last post wanted give month see going work trulicity six month metformin hit five month period diarrhea gas sulphur belching finally subsided longer side effect however still lost weight think first started trulicity taking glimepiride one side effect weight gain think two med fighting lol back metformin trulicity week see diagnosed stage chronic kidney disease ckd watching diet closely</td>\n",
       "    </tr>\n",
       "    <tr>\n",
       "      <th>4</th>\n",
       "      <td>Depression</td>\n",
       "      <td>This medicine saved my life. I was at my wits end with anti-depressants and was ready to give up. My doctor finally prescribed me this after many failed medications, I am so glad she did. I honestly do not know where I would be without Effexor XR. Side effects were very mild compared to other anti-depressants I tried. I was drowsy for the first couple days, but it was tolerable. I highly recommend this for severe depression. I would also like to mention for people to realize there is light at the end of the tunnel and YOU WILL GET BETTER, and to never give up.</td>\n",
       "      <td>medicine saved life wit end anti depressant ready give doctor finally prescribed many failed medication glad honestly know would without effexor xr side effect mild compared anti depressant tried drowsy first couple day tolerable highly recommend severe depression would also like mention people realize light end tunnel get better never give</td>\n",
       "    </tr>\n",
       "  </tbody>\n",
       "</table>\n",
       "</div>\n",
       "      <button class=\"colab-df-convert\" onclick=\"convertToInteractive('df-8160856b-c418-4506-b598-74884ce3991a')\"\n",
       "              title=\"Convert this dataframe to an interactive table.\"\n",
       "              style=\"display:none;\">\n",
       "        \n",
       "  <svg xmlns=\"http://www.w3.org/2000/svg\" height=\"24px\"viewBox=\"0 0 24 24\"\n",
       "       width=\"24px\">\n",
       "    <path d=\"M0 0h24v24H0V0z\" fill=\"none\"/>\n",
       "    <path d=\"M18.56 5.44l.94 2.06.94-2.06 2.06-.94-2.06-.94-.94-2.06-.94 2.06-2.06.94zm-11 1L8.5 8.5l.94-2.06 2.06-.94-2.06-.94L8.5 2.5l-.94 2.06-2.06.94zm10 10l.94 2.06.94-2.06 2.06-.94-2.06-.94-.94-2.06-.94 2.06-2.06.94z\"/><path d=\"M17.41 7.96l-1.37-1.37c-.4-.4-.92-.59-1.43-.59-.52 0-1.04.2-1.43.59L10.3 9.45l-7.72 7.72c-.78.78-.78 2.05 0 2.83L4 21.41c.39.39.9.59 1.41.59.51 0 1.02-.2 1.41-.59l7.78-7.78 2.81-2.81c.8-.78.8-2.07 0-2.86zM5.41 20L4 18.59l7.72-7.72 1.47 1.35L5.41 20z\"/>\n",
       "  </svg>\n",
       "      </button>\n",
       "      \n",
       "  <style>\n",
       "    .colab-df-container {\n",
       "      display:flex;\n",
       "      flex-wrap:wrap;\n",
       "      gap: 12px;\n",
       "    }\n",
       "\n",
       "    .colab-df-convert {\n",
       "      background-color: #E8F0FE;\n",
       "      border: none;\n",
       "      border-radius: 50%;\n",
       "      cursor: pointer;\n",
       "      display: none;\n",
       "      fill: #1967D2;\n",
       "      height: 32px;\n",
       "      padding: 0 0 0 0;\n",
       "      width: 32px;\n",
       "    }\n",
       "\n",
       "    .colab-df-convert:hover {\n",
       "      background-color: #E2EBFA;\n",
       "      box-shadow: 0px 1px 2px rgba(60, 64, 67, 0.3), 0px 1px 3px 1px rgba(60, 64, 67, 0.15);\n",
       "      fill: #174EA6;\n",
       "    }\n",
       "\n",
       "    [theme=dark] .colab-df-convert {\n",
       "      background-color: #3B4455;\n",
       "      fill: #D2E3FC;\n",
       "    }\n",
       "\n",
       "    [theme=dark] .colab-df-convert:hover {\n",
       "      background-color: #434B5C;\n",
       "      box-shadow: 0px 1px 3px 1px rgba(0, 0, 0, 0.15);\n",
       "      filter: drop-shadow(0px 1px 2px rgba(0, 0, 0, 0.3));\n",
       "      fill: #FFFFFF;\n",
       "    }\n",
       "  </style>\n",
       "\n",
       "      <script>\n",
       "        const buttonEl =\n",
       "          document.querySelector('#df-8160856b-c418-4506-b598-74884ce3991a button.colab-df-convert');\n",
       "        buttonEl.style.display =\n",
       "          google.colab.kernel.accessAllowed ? 'block' : 'none';\n",
       "\n",
       "        async function convertToInteractive(key) {\n",
       "          const element = document.querySelector('#df-8160856b-c418-4506-b598-74884ce3991a');\n",
       "          const dataTable =\n",
       "            await google.colab.kernel.invokeFunction('convertToInteractive',\n",
       "                                                     [key], {});\n",
       "          if (!dataTable) return;\n",
       "\n",
       "          const docLinkHtml = 'Like what you see? Visit the ' +\n",
       "            '<a target=\"_blank\" href=https://colab.research.google.com/notebooks/data_table.ipynb>data table notebook</a>'\n",
       "            + ' to learn more about interactive tables.';\n",
       "          element.innerHTML = '';\n",
       "          dataTable['output_type'] = 'display_data';\n",
       "          await google.colab.output.renderOutput(dataTable, element);\n",
       "          const docLink = document.createElement('div');\n",
       "          docLink.innerHTML = docLinkHtml;\n",
       "          element.appendChild(docLink);\n",
       "        }\n",
       "      </script>\n",
       "    </div>\n",
       "  </div>\n",
       "  "
      ],
      "text/plain": [
       "          condition  \\\n",
       "0  Depression         \n",
       "1  Depression         \n",
       "2  Depression         \n",
       "3  Diabetes, Type 2   \n",
       "4  Depression         \n",
       "\n",
       "                                                                                                                                                                                                                                                                                                                                                                                                                                                                                                                                                                                                                                                                                                                                                                                          review  \\\n",
       "0  I have taken anti-depressants for years, with some improvement but mostly moderate to severe side affects, which makes me go off them.\\n\\nI only take Cymbalta now mostly for pain.\\n\\nWhen I began Deplin, I noticed a major improvement overnight. More energy, better disposition, and no sinking to the low lows of major depression. I have been taking it for about 3 months now and feel like a normal person for the first time ever. Best thing, no side effects.                                                                                                                                                                                                                                                                                                                      \n",
       "1  1 week on Zoloft for anxiety and mood swings. I take 50mg in the mornings with my breakfast. Nausea on day one  but that subsided as the week went on.  I get the jitters about 2 hrs after taking it followed by yawning. I feel much better though and less angry/stressed.                                                                                                                                                                                                                                                                                                                                                                                                                                                                                                                   \n",
       "2  my gp started me on Venlafaxine yesterday to help with depression and the change,a hour after taking them i was feeling very sick couldn,t stomach food or fluids, thought keep it up as she told me they did come with some side effects which would get better,took another one last night and was so ill i couldn,t stand ,being sick sweating shaking thought i was going to pass out. Did get some sleep hopeing to feel better this morning,took another one and felt so spaced out dry mouth shaking ,sick, so booked in to see gp again to make sure i should be feeling like this, only to find out she had put me on the wrong dose should have been on 37.5mg was put on 150mg, now on right dose hope this will be better                                                           \n",
       "3  Hey Guys,  It&#039;s been 4 months since my last post as I wanted to give it a few months to see how this was going to work.  So, I have been on Trulicity for six months now with Metformin.  When I hit the five month period the diarrhea, gas, sulphur belching finally subsided.  I now longer have any of those side effects.  However, I still haven&#039;t lost any weight at all, but I think that was because when I first started Trulicity I was taking it with Glimepiride and that one has a side effect of weight gain so I think the two meds were fighting each other lol.  I have been back on the Metformin with Trulicity for about a week now, so we will see what this does.  I was diagnosed as  stage 3 chronic kidney disease (CKD 3) so I am watching diet closely.   \n",
       "4  This medicine saved my life. I was at my wits end with anti-depressants and was ready to give up. My doctor finally prescribed me this after many failed medications, I am so glad she did. I honestly do not know where I would be without Effexor XR. Side effects were very mild compared to other anti-depressants I tried. I was drowsy for the first couple days, but it was tolerable. I highly recommend this for severe depression. I would also like to mention for people to realize there is light at the end of the tunnel and YOU WILL GET BETTER, and to never give up.                                                                                                                                                                                                          \n",
       "\n",
       "                                                                                                                                                                                                                                                                                                                                                                                                                review_clean  \n",
       "0  taken anti depressant year improvement mostly moderate severe side affect make go take cymbalta mostly pain began deplin noticed major improvement overnight energy better disposition sinking low low major depression taking month feel like normal person first time ever best thing side effect                                                                                                                        \n",
       "1  week zoloft anxiety mood swing take mg morning breakfast nausea day one subsided week went get jitter hr taking followed yawning feel much better though le angry stressed                                                                                                                                                                                                                                                 \n",
       "2  gp started venlafaxine yesterday help depression change hour taking feeling sick stomach food fluid thought keep told come side effect would get better took another one last night ill stand sick sweating shaking thought going pas get sleep hopeing feel better morning took another one felt spaced dry mouth shaking sick booked see gp make sure feeling like find put wrong dose mg put mg right dose hope better  \n",
       "3  hey guy month since last post wanted give month see going work trulicity six month metformin hit five month period diarrhea gas sulphur belching finally subsided longer side effect however still lost weight think first started trulicity taking glimepiride one side effect weight gain think two med fighting lol back metformin trulicity week see diagnosed stage chronic kidney disease ckd watching diet closely  \n",
       "4  medicine saved life wit end anti depressant ready give doctor finally prescribed many failed medication glad honestly know would without effexor xr side effect mild compared anti depressant tried drowsy first couple day tolerable highly recommend severe depression would also like mention people realize light end tunnel get better never give                                                                     "
      ]
     },
     "execution_count": 19,
     "metadata": {},
     "output_type": "execute_result"
    }
   ],
   "source": [
    "X1['review_clean'] = X1['review'].apply(review_to_words)\n",
    "X1.head()\n"
   ]
  },
  {
   "cell_type": "markdown",
   "metadata": {
    "id": "OcLOG6abRG_P"
   },
   "source": [
    "#Creating features and Target Variable"
   ]
  },
  {
   "cell_type": "code",
   "execution_count": 20,
   "metadata": {
    "id": "s2iTj2-Raa98"
   },
   "outputs": [],
   "source": [
    "from sklearn.preprocessing import LabelEncoder\n",
    "# Encode the columns using LabelEncoder\n",
    "encoder = LabelEncoder()\n",
    "X1['condition'] = encoder.fit_transform(X1['condition'].to_numpy())"
   ]
  },
  {
   "cell_type": "code",
   "execution_count": 21,
   "metadata": {
    "id": "rwQus6IiJTw_"
   },
   "outputs": [],
   "source": [
    "\n",
    "X_feat=X1['review_clean']\n",
    "y=X1['condition']\n"
   ]
  },
  {
   "cell_type": "code",
   "execution_count": 22,
   "metadata": {
    "id": "_gnW-PjHJT0R"
   },
   "outputs": [],
   "source": [
    "X_train, X_test, y_train, y_test = train_test_split(X_feat, y,stratify=y,test_size=0.2, random_state=0)\n"
   ]
  },
  {
   "cell_type": "code",
   "execution_count": 23,
   "metadata": {
    "id": "6rnyi8thJT6I"
   },
   "outputs": [],
   "source": [
    "def plot_confusion_matrix(cm, classes,\n",
    "                          normalize=False,\n",
    "                          title='Confusion matrix',\n",
    "                          cmap=plt.cm.Blues):\n",
    "    \"\"\"\n",
    "    See full source and example: \n",
    "    http://scikit-learn.org/stable/auto_examples/model_selection/plot_confusion_matrix.html\n",
    "    \n",
    "    This function prints and plots the confusion matrix.\n",
    "    Normalization can be applied by setting `normalize=True`.\n",
    "    \"\"\"\n",
    "    plt.imshow(cm, interpolation='nearest', cmap=cmap)\n",
    "    plt.title(title)\n",
    "    plt.colorbar()\n",
    "    tick_marks = np.arange(len(classes))\n",
    "    plt.xticks(tick_marks, classes, rotation=45)\n",
    "    plt.yticks(tick_marks, classes)\n",
    "\n",
    "    if normalize:\n",
    "        cm = cm.astype('float') / cm.sum(axis=1)[:, np.newaxis]\n",
    "        print(\"Normalized confusion matrix\")\n",
    "    else:\n",
    "        print('Confusion matrix, without normalization')\n",
    "\n",
    "    thresh = cm.max() / 2.\n",
    "    for i, j in itertools.product(range(cm.shape[0]), range(cm.shape[1])):\n",
    "        plt.text(j, i, cm[i, j],\n",
    "                 horizontalalignment=\"center\",\n",
    "                 color=\"white\" if cm[i, j] > thresh else \"black\")\n",
    "\n",
    "    plt.tight_layout()\n",
    "    plt.ylabel('True label')\n",
    "    plt.xlabel('Predicted label')"
   ]
  },
  {
   "cell_type": "code",
   "execution_count": 24,
   "metadata": {
    "id": "mUwI42CvKN3c"
   },
   "outputs": [],
   "source": [
    "#Bag of Words\n",
    "count_vectorizer = CountVectorizer(stop_words='english')\n",
    "\n",
    "count_train = count_vectorizer.fit_transform(X_train)\n",
    "\n",
    "count_test = count_vectorizer.transform(X_test)"
   ]
  },
  {
   "cell_type": "code",
   "execution_count": 25,
   "metadata": {
    "id": "tqt9dBnuYeju"
   },
   "outputs": [],
   "source": [
    "# convert sparse matrices to dense arrays\n",
    "cv_train_array = count_train.toarray()\n",
    "cv_test_array = count_test.toarray()"
   ]
  },
  {
   "cell_type": "code",
   "execution_count": 26,
   "metadata": {
    "colab": {
     "base_uri": "https://localhost:8080/"
    },
    "id": "z6yfOgd1YzXP",
    "outputId": "73801a86-a0bf-45e8-b42c-473e783bf4ad"
   },
   "outputs": [
    {
     "data": {
      "text/plain": [
       "11173"
      ]
     },
     "execution_count": 26,
     "metadata": {},
     "output_type": "execute_result"
    }
   ],
   "source": [
    "cv_train_array.shape[1]"
   ]
  },
  {
   "cell_type": "markdown",
   "metadata": {
    "id": "Zstvry6dPKKK"
   },
   "source": [
    "#Deep Learning Model : ANN"
   ]
  },
  {
   "cell_type": "markdown",
   "metadata": {
    "id": "n6SyEHKyS7dV"
   },
   "source": [
    "Using Bag of words"
   ]
  },
  {
   "cell_type": "code",
   "execution_count": 27,
   "metadata": {
    "id": "M8Ygs1b9SumU"
   },
   "outputs": [],
   "source": [
    "import tensorflow\n",
    "from tensorflow import keras\n",
    "from tensorflow.keras import Sequential \n",
    "from tensorflow.keras.layers import Dense,BatchNormalization\n",
    "from keras.layers import LeakyReLU\n",
    "from keras.optimizers import Adam\n",
    "from keras.optimizers import RMSprop"
   ]
  },
  {
   "cell_type": "code",
   "execution_count": 28,
   "metadata": {
    "id": "aGYTJd_pS4f9"
   },
   "outputs": [],
   "source": [
    "from keras.backend import batch_normalization\n",
    "from tensorflow.keras.layers import Dropout\n",
    "learning_rate = 0.0001\n",
    "model = Sequential()\n",
    "model.add(Dense(32,activation='tanh',input_dim=cv_train_array.shape[1],kernel_regularizer=tensorflow.keras.regularizers.l2(0.002)))\n",
    "model.add(Dropout(0.4))\n",
    "model.add(Dense(16,activation='tanh',kernel_regularizer=tensorflow.keras.regularizers.l2(0.002)))\n",
    "model.add(Dropout(0.4))\n",
    "model.add(Dense(16,activation='tanh',kernel_regularizer=tensorflow.keras.regularizers.l2(0.002)))\n",
    "model.add(Dropout(0.4))\n",
    "model.add(Dense(16,activation='tanh',kernel_regularizer=tensorflow.keras.regularizers.l2(0.002)))\n",
    "model.add(Dropout(0.4))\n",
    "model.add(Dense(3,activation='softmax'))"
   ]
  },
  {
   "cell_type": "code",
   "execution_count": 29,
   "metadata": {
    "id": "j426h--DY_9s"
   },
   "outputs": [],
   "source": [
    "optimizer = Adam(learning_rate=learning_rate)\n",
    "model.compile(optimizer = optimizer, loss='sparse_categorical_crossentropy',metrics=['accuracy'])"
   ]
  },
  {
   "cell_type": "code",
   "execution_count": 30,
   "metadata": {
    "colab": {
     "base_uri": "https://localhost:8080/"
    },
    "id": "z-Hu-KjMZAG1",
    "outputId": "c9bb4e58-f16a-42cf-af7d-cdf949307bf5"
   },
   "outputs": [
    {
     "name": "stdout",
     "output_type": "stream",
     "text": [
      "Model: \"sequential\"\n",
      "_________________________________________________________________\n",
      " Layer (type)                Output Shape              Param #   \n",
      "=================================================================\n",
      " dense (Dense)               (None, 32)                357568    \n",
      "                                                                 \n",
      " dropout (Dropout)           (None, 32)                0         \n",
      "                                                                 \n",
      " dense_1 (Dense)             (None, 16)                528       \n",
      "                                                                 \n",
      " dropout_1 (Dropout)         (None, 16)                0         \n",
      "                                                                 \n",
      " dense_2 (Dense)             (None, 16)                272       \n",
      "                                                                 \n",
      " dropout_2 (Dropout)         (None, 16)                0         \n",
      "                                                                 \n",
      " dense_3 (Dense)             (None, 16)                272       \n",
      "                                                                 \n",
      " dropout_3 (Dropout)         (None, 16)                0         \n",
      "                                                                 \n",
      " dense_4 (Dense)             (None, 3)                 51        \n",
      "                                                                 \n",
      "=================================================================\n",
      "Total params: 358,691\n",
      "Trainable params: 358,691\n",
      "Non-trainable params: 0\n",
      "_________________________________________________________________\n"
     ]
    }
   ],
   "source": [
    "model.summary()"
   ]
  },
  {
   "cell_type": "code",
   "execution_count": 31,
   "metadata": {
    "id": "Z_XwR_-6ZKAM"
   },
   "outputs": [],
   "source": [
    "from tensorflow.keras.callbacks import EarlyStopping\n",
    "callback = EarlyStopping(\n",
    "    monitor=\"val_accuracy\",\n",
    "    min_delta=0.00001,\n",
    "    patience=5,\n",
    "    verbose=1,\n",
    "    mode=\"auto\",\n",
    "    baseline=None,\n",
    "    restore_best_weights=False\n",
    ")"
   ]
  },
  {
   "cell_type": "code",
   "execution_count": 32,
   "metadata": {
    "colab": {
     "base_uri": "https://localhost:8080/"
    },
    "id": "SbhIfROSZKJb",
    "outputId": "1009150e-257e-4f95-e198-8e3d69b6f536"
   },
   "outputs": [
    {
     "name": "stdout",
     "output_type": "stream",
     "text": [
      "Epoch 1/1000\n",
      "179/179 [==============================] - 6s 9ms/step - loss: 1.1396 - accuracy: 0.5382 - val_loss: 0.8916 - val_accuracy: 0.6907\n",
      "Epoch 2/1000\n",
      "179/179 [==============================] - 1s 6ms/step - loss: 0.8892 - accuracy: 0.7148 - val_loss: 0.6800 - val_accuracy: 0.8413\n",
      "Epoch 3/1000\n",
      "179/179 [==============================] - 1s 6ms/step - loss: 0.7286 - accuracy: 0.7989 - val_loss: 0.5344 - val_accuracy: 0.8987\n",
      "Epoch 4/1000\n",
      "179/179 [==============================] - 1s 5ms/step - loss: 0.6026 - accuracy: 0.8537 - val_loss: 0.4457 - val_accuracy: 0.9207\n",
      "Epoch 5/1000\n",
      "179/179 [==============================] - 1s 6ms/step - loss: 0.5294 - accuracy: 0.8826 - val_loss: 0.3902 - val_accuracy: 0.9301\n",
      "Epoch 6/1000\n",
      "179/179 [==============================] - 1s 5ms/step - loss: 0.4723 - accuracy: 0.8969 - val_loss: 0.3517 - val_accuracy: 0.9377\n",
      "Epoch 7/1000\n",
      "179/179 [==============================] - 1s 6ms/step - loss: 0.4206 - accuracy: 0.9183 - val_loss: 0.3251 - val_accuracy: 0.9435\n",
      "Epoch 8/1000\n",
      "179/179 [==============================] - 1s 7ms/step - loss: 0.3857 - accuracy: 0.9266 - val_loss: 0.3050 - val_accuracy: 0.9480\n",
      "Epoch 9/1000\n",
      "179/179 [==============================] - 1s 7ms/step - loss: 0.3672 - accuracy: 0.9328 - val_loss: 0.2888 - val_accuracy: 0.9502\n",
      "Epoch 10/1000\n",
      "179/179 [==============================] - 1s 5ms/step - loss: 0.3416 - accuracy: 0.9403 - val_loss: 0.2779 - val_accuracy: 0.9534\n",
      "Epoch 11/1000\n",
      "179/179 [==============================] - 1s 5ms/step - loss: 0.3187 - accuracy: 0.9500 - val_loss: 0.2685 - val_accuracy: 0.9552\n",
      "Epoch 12/1000\n",
      "179/179 [==============================] - 1s 6ms/step - loss: 0.3009 - accuracy: 0.9526 - val_loss: 0.2630 - val_accuracy: 0.9561\n",
      "Epoch 13/1000\n",
      "179/179 [==============================] - 1s 5ms/step - loss: 0.2859 - accuracy: 0.9603 - val_loss: 0.2569 - val_accuracy: 0.9552\n",
      "Epoch 14/1000\n",
      "179/179 [==============================] - 1s 6ms/step - loss: 0.2739 - accuracy: 0.9621 - val_loss: 0.2521 - val_accuracy: 0.9565\n",
      "Epoch 15/1000\n",
      "179/179 [==============================] - 1s 6ms/step - loss: 0.2601 - accuracy: 0.9639 - val_loss: 0.2492 - val_accuracy: 0.9538\n",
      "Epoch 16/1000\n",
      "179/179 [==============================] - 1s 6ms/step - loss: 0.2502 - accuracy: 0.9704 - val_loss: 0.2448 - val_accuracy: 0.9583\n",
      "Epoch 17/1000\n",
      "179/179 [==============================] - 1s 5ms/step - loss: 0.2358 - accuracy: 0.9752 - val_loss: 0.2417 - val_accuracy: 0.9574\n",
      "Epoch 18/1000\n",
      "179/179 [==============================] - 1s 6ms/step - loss: 0.2318 - accuracy: 0.9750 - val_loss: 0.2393 - val_accuracy: 0.9592\n",
      "Epoch 19/1000\n",
      "179/179 [==============================] - 1s 7ms/step - loss: 0.2252 - accuracy: 0.9755 - val_loss: 0.2372 - val_accuracy: 0.9579\n",
      "Epoch 20/1000\n",
      "179/179 [==============================] - 1s 7ms/step - loss: 0.2157 - accuracy: 0.9780 - val_loss: 0.2360 - val_accuracy: 0.9588\n",
      "Epoch 21/1000\n",
      "179/179 [==============================] - 1s 6ms/step - loss: 0.2066 - accuracy: 0.9805 - val_loss: 0.2345 - val_accuracy: 0.9588\n",
      "Epoch 22/1000\n",
      "179/179 [==============================] - 1s 5ms/step - loss: 0.2084 - accuracy: 0.9788 - val_loss: 0.2333 - val_accuracy: 0.9597\n",
      "Epoch 23/1000\n",
      "179/179 [==============================] - 1s 6ms/step - loss: 0.1978 - accuracy: 0.9814 - val_loss: 0.2325 - val_accuracy: 0.9588\n",
      "Epoch 24/1000\n",
      "179/179 [==============================] - 1s 5ms/step - loss: 0.1934 - accuracy: 0.9827 - val_loss: 0.2327 - val_accuracy: 0.9583\n",
      "Epoch 25/1000\n",
      "179/179 [==============================] - 1s 6ms/step - loss: 0.1887 - accuracy: 0.9814 - val_loss: 0.2295 - val_accuracy: 0.9597\n",
      "Epoch 26/1000\n",
      "179/179 [==============================] - 1s 6ms/step - loss: 0.1860 - accuracy: 0.9827 - val_loss: 0.2263 - val_accuracy: 0.9601\n",
      "Epoch 27/1000\n",
      "179/179 [==============================] - 1s 6ms/step - loss: 0.1796 - accuracy: 0.9845 - val_loss: 0.2223 - val_accuracy: 0.9597\n",
      "Epoch 28/1000\n",
      "179/179 [==============================] - 1s 5ms/step - loss: 0.1801 - accuracy: 0.9830 - val_loss: 0.2249 - val_accuracy: 0.9615\n",
      "Epoch 29/1000\n",
      "179/179 [==============================] - 1s 6ms/step - loss: 0.1723 - accuracy: 0.9854 - val_loss: 0.2204 - val_accuracy: 0.9615\n",
      "Epoch 30/1000\n",
      "179/179 [==============================] - 1s 7ms/step - loss: 0.1716 - accuracy: 0.9864 - val_loss: 0.2195 - val_accuracy: 0.9615\n",
      "Epoch 31/1000\n",
      "179/179 [==============================] - 1s 7ms/step - loss: 0.1680 - accuracy: 0.9866 - val_loss: 0.2202 - val_accuracy: 0.9610\n",
      "Epoch 32/1000\n",
      "179/179 [==============================] - 1s 6ms/step - loss: 0.1649 - accuracy: 0.9864 - val_loss: 0.2188 - val_accuracy: 0.9610\n",
      "Epoch 33/1000\n",
      "179/179 [==============================] - 1s 5ms/step - loss: 0.1627 - accuracy: 0.9878 - val_loss: 0.2197 - val_accuracy: 0.9606\n",
      "Epoch 33: early stopping\n"
     ]
    }
   ],
   "source": [
    "history = model.fit(cv_train_array,y_train,batch_size=50,epochs=1000,verbose=1,validation_split=0.2,callbacks=callback)"
   ]
  },
  {
   "cell_type": "code",
   "execution_count": 33,
   "metadata": {
    "colab": {
     "base_uri": "https://localhost:8080/",
     "height": 447
    },
    "id": "M_iztxqIcdnb",
    "outputId": "5ce057f4-8a55-41fa-f0d0-0aedc2991ade"
   },
   "outputs": [
    {
     "data": {
      "text/plain": [
       "[<matplotlib.lines.Line2D at 0x7fb4c866beb0>]"
      ]
     },
     "execution_count": 33,
     "metadata": {},
     "output_type": "execute_result"
    },
    {
     "data": {
      "image/png": "[encoded data removed]",
      "text/plain": [
       "<Figure size 640x480 with 1 Axes>"
      ]
     },
     "metadata": {},
     "output_type": "display_data"
    }
   ],
   "source": [
    "plt.plot(history.history['loss'])\n",
    "plt.plot(history.history['val_loss'])"
   ]
  },
  {
   "cell_type": "code",
   "execution_count": 34,
   "metadata": {
    "colab": {
     "base_uri": "https://localhost:8080/",
     "height": 447
    },
    "id": "vLPkGDvRcgx6",
    "outputId": "77fdd70c-2db1-47ab-e378-9cd28135a917"
   },
   "outputs": [
    {
     "data": {
      "text/plain": [
       "[<matplotlib.lines.Line2D at 0x7fb4c856afe0>]"
      ]
     },
     "execution_count": 34,
     "metadata": {},
     "output_type": "execute_result"
    },
    {
     "data": {
      "image/png": "[encoded data removed]",
      "text/plain": [
       "<Figure size 640x480 with 1 Axes>"
      ]
     },
     "metadata": {},
     "output_type": "display_data"
    }
   ],
   "source": [
    "plt.plot(history.history['accuracy'])\n",
    "plt.plot(history.history['val_accuracy'])"
   ]
  },
  {
   "cell_type": "code",
   "execution_count": 35,
   "metadata": {
    "colab": {
     "base_uri": "https://localhost:8080/"
    },
    "id": "Ri_iPsNAcoHc",
    "outputId": "31e45057-2292-4d42-f71f-2117f19c1bcc"
   },
   "outputs": [
    {
     "name": "stdout",
     "output_type": "stream",
     "text": [
      "88/88 [==============================] - 0s 3ms/step\n"
     ]
    }
   ],
   "source": [
    "pred1 = model.predict(cv_test_array)"
   ]
  },
  {
   "cell_type": "code",
   "execution_count": 36,
   "metadata": {
    "colab": {
     "base_uri": "https://localhost:8080/"
    },
    "id": "57CTNzAYcr5S",
    "outputId": "a700cfa7-a299-4f79-d931-adcb711919ec"
   },
   "outputs": [
    {
     "data": {
      "text/plain": [
       "array([0, 0, 1, ..., 0, 0, 0])"
      ]
     },
     "execution_count": 36,
     "metadata": {},
     "output_type": "execute_result"
    }
   ],
   "source": [
    "k=pred1.argmax(axis=1)\n",
    "k"
   ]
  },
  {
   "cell_type": "code",
   "execution_count": 37,
   "metadata": {
    "colab": {
     "base_uri": "https://localhost:8080/"
    },
    "id": "ar78NwWxTDEu",
    "outputId": "541202f2-aa92-4abe-8bc0-ae8394a978bb"
   },
   "outputs": [
    {
     "name": "stdout",
     "output_type": "stream",
     "text": [
      "accuracy:   0.961\n"
     ]
    }
   ],
   "source": [
    "score1 = metrics.accuracy_score(y_test, k)\n",
    "print(\"accuracy:   %0.3f\" % score1)"
   ]
  },
  {
   "cell_type": "code",
   "execution_count": 38,
   "metadata": {
    "colab": {
     "base_uri": "https://localhost:8080/"
    },
    "id": "tWd59Xr1aNps",
    "outputId": "bb7c20b2-b837-47a7-fde8-6b439f1cc74d"
   },
   "outputs": [
    {
     "name": "stdout",
     "output_type": "stream",
     "text": [
      "              precision    recall  f1-score   support\n",
      "\n",
      "           0       0.97      0.98      0.97      1814\n",
      "           1       0.96      0.94      0.95       511\n",
      "           2       0.93      0.91      0.92       464\n",
      "\n",
      "    accuracy                           0.96      2789\n",
      "   macro avg       0.95      0.94      0.95      2789\n",
      "weighted avg       0.96      0.96      0.96      2789\n",
      "\n"
     ]
    }
   ],
   "source": [
    "from sklearn.metrics import classification_report\n",
    "print(classification_report(y_test,k))"
   ]
  },
  {
   "cell_type": "code",
   "execution_count": 39,
   "metadata": {
    "colab": {
     "base_uri": "https://localhost:8080/",
     "height": 523
    },
    "id": "yYaYjy4YKN53",
    "outputId": "e47eb643-6c89-4563-a110-5d19a447433f"
   },
   "outputs": [
    {
     "name": "stdout",
     "output_type": "stream",
     "text": [
      "Confusion matrix, without normalization\n"
     ]
    },
    {
     "data": {
      "image/png": "[encoded data removed]",
      "text/plain": [
       "<Figure size 640x480 with 2 Axes>"
      ]
     },
     "metadata": {},
     "output_type": "display_data"
    }
   ],
   "source": [
    "cm = metrics.confusion_matrix(y_test,k, labels=[0,1,2])\n",
    "plot_confusion_matrix(cm, classes=[0,1,2])"
   ]
  },
  {
   "cell_type": "markdown",
   "metadata": {
    "id": "fG__YjfThhg9"
   },
   "source": [
    "Using TFIDF"
   ]
  },
  {
   "cell_type": "code",
   "execution_count": 61,
   "metadata": {
    "id": "w51wkVxPhgts"
   },
   "outputs": [],
   "source": [
    "tfidf_vectorizer = TfidfVectorizer(stop_words='english', max_df=0.8)\n",
    "tfidf_train = tfidf_vectorizer.fit_transform(X_train)\n",
    "tfidf_test = tfidf_vectorizer.transform(X_test)"
   ]
  },
  {
   "cell_type": "code",
   "execution_count": 62,
   "metadata": {
    "id": "witEUqAzhyEG"
   },
   "outputs": [],
   "source": [
    "tfidf_train1 = tfidf_train.toarray()\n",
    "tfidf_test1 = tfidf_test.toarray()"
   ]
  },
  {
   "cell_type": "code",
   "execution_count": 92,
   "metadata": {
    "id": "V1Bc71_3g2gh"
   },
   "outputs": [],
   "source": [
    "learning_rate = 0.0001\n",
    "model = Sequential()"
   ]
  },
  {
   "cell_type": "code",
   "execution_count": 93,
   "metadata": {
    "id": "hrZhQY8Kg9Ny"
   },
   "outputs": [],
   "source": [
    "model.add(Dense(32,activation='tanh',input_dim=tfidf_train1.shape[1],kernel_regularizer=tensorflow.keras.regularizers.l2(0.002)))\n",
    "model.add(Dropout(0.4))\n",
    "model.add(Dense(16,activation='tanh',kernel_regularizer=tensorflow.keras.regularizers.l2(0.002)))\n",
    "model.add(Dropout(0.4))\n",
    "model.add(Dense(16,activation='tanh',kernel_regularizer=tensorflow.keras.regularizers.l2(0.002)))\n",
    "model.add(Dropout(0.4))\n",
    "model.add(Dense(16,activation='tanh',kernel_regularizer=tensorflow.keras.regularizers.l2(0.002)))\n",
    "model.add(Dropout(0.4))\n",
    "model.add(Dense(16,activation='tanh',kernel_regularizer=tensorflow.keras.regularizers.l2(0.002)))\n",
    "model.add(Dropout(0.4))\n",
    "model.add(Dense(3,activation='softmax'))"
   ]
  },
  {
   "cell_type": "code",
   "execution_count": 94,
   "metadata": {
    "colab": {
     "base_uri": "https://localhost:8080/"
    },
    "id": "xWE84QynhBWf",
    "outputId": "a7321832-69a0-498b-d05d-753e4f097adf"
   },
   "outputs": [
    {
     "name": "stdout",
     "output_type": "stream",
     "text": [
      "Model: \"sequential_6\"\n",
      "_________________________________________________________________\n",
      " Layer (type)                Output Shape              Param #   \n",
      "=================================================================\n",
      " dense_38 (Dense)            (None, 32)                357568    \n",
      "                                                                 \n",
      " dropout_31 (Dropout)        (None, 32)                0         \n",
      "                                                                 \n",
      " dense_39 (Dense)            (None, 16)                528       \n",
      "                                                                 \n",
      " dropout_32 (Dropout)        (None, 16)                0         \n",
      "                                                                 \n",
      " dense_40 (Dense)            (None, 16)                272       \n",
      "                                                                 \n",
      " dropout_33 (Dropout)        (None, 16)                0         \n",
      "                                                                 \n",
      " dense_41 (Dense)            (None, 16)                272       \n",
      "                                                                 \n",
      " dropout_34 (Dropout)        (None, 16)                0         \n",
      "                                                                 \n",
      " dense_42 (Dense)            (None, 16)                272       \n",
      "                                                                 \n",
      " dropout_35 (Dropout)        (None, 16)                0         \n",
      "                                                                 \n",
      " dense_43 (Dense)            (None, 3)                 51        \n",
      "                                                                 \n",
      "=================================================================\n",
      "Total params: 358,963\n",
      "Trainable params: 358,963\n",
      "Non-trainable params: 0\n",
      "_________________________________________________________________\n"
     ]
    }
   ],
   "source": [
    "optimizer = Adam(learning_rate=learning_rate)\n",
    "model.compile(optimizer = optimizer, loss='sparse_categorical_crossentropy',metrics=['accuracy'])\n",
    "model.summary()"
   ]
  },
  {
   "cell_type": "code",
   "execution_count": 95,
   "metadata": {
    "id": "8DFlqrPGhFTN"
   },
   "outputs": [],
   "source": [
    "from tensorflow.keras.callbacks import EarlyStopping\n",
    "callback = EarlyStopping(\n",
    "    monitor=\"val_accuracy\",\n",
    "    min_delta=0.00001,\n",
    "    patience=5,\n",
    "    verbose=1,\n",
    "    mode=\"auto\",\n",
    "    baseline=None,\n",
    "    restore_best_weights=False\n",
    ")  "
   ]
  },
  {
   "cell_type": "code",
   "execution_count": 96,
   "metadata": {
    "colab": {
     "base_uri": "https://localhost:8080/"
    },
    "id": "I8kzJxPwhHlY",
    "outputId": "63d55122-c78d-4dbe-ec40-e351f1f5ab88"
   },
   "outputs": [
    {
     "name": "stdout",
     "output_type": "stream",
     "text": [
      "Epoch 1/1000\n",
      "179/179 [==============================] - 3s 9ms/step - loss: 1.2136 - accuracy: 0.5958 - val_loss: 1.0617 - val_accuracy: 0.6567\n",
      "Epoch 2/1000\n",
      "179/179 [==============================] - 1s 5ms/step - loss: 1.0384 - accuracy: 0.6450 - val_loss: 0.8970 - val_accuracy: 0.6692\n",
      "Epoch 3/1000\n",
      "179/179 [==============================] - 1s 5ms/step - loss: 0.8545 - accuracy: 0.7191 - val_loss: 0.6816 - val_accuracy: 0.7934\n",
      "Epoch 4/1000\n",
      "179/179 [==============================] - 1s 5ms/step - loss: 0.6911 - accuracy: 0.7877 - val_loss: 0.5696 - val_accuracy: 0.8037\n",
      "Epoch 5/1000\n",
      "179/179 [==============================] - 1s 5ms/step - loss: 0.5991 - accuracy: 0.8204 - val_loss: 0.5219 - val_accuracy: 0.8198\n",
      "Epoch 6/1000\n",
      "179/179 [==============================] - 1s 5ms/step - loss: 0.5596 - accuracy: 0.8272 - val_loss: 0.4959 - val_accuracy: 0.8561\n",
      "Epoch 7/1000\n",
      "179/179 [==============================] - 1s 5ms/step - loss: 0.5255 - accuracy: 0.8417 - val_loss: 0.4758 - val_accuracy: 0.8709\n",
      "Epoch 8/1000\n",
      "179/179 [==============================] - 1s 4ms/step - loss: 0.4953 - accuracy: 0.8571 - val_loss: 0.4594 - val_accuracy: 0.8897\n",
      "Epoch 9/1000\n",
      "179/179 [==============================] - 1s 5ms/step - loss: 0.4733 - accuracy: 0.8682 - val_loss: 0.4454 - val_accuracy: 0.9090\n",
      "Epoch 10/1000\n",
      "179/179 [==============================] - 1s 4ms/step - loss: 0.4498 - accuracy: 0.8800 - val_loss: 0.4270 - val_accuracy: 0.9225\n",
      "Epoch 11/1000\n",
      "179/179 [==============================] - 1s 5ms/step - loss: 0.4313 - accuracy: 0.8978 - val_loss: 0.4086 - val_accuracy: 0.9323\n",
      "Epoch 12/1000\n",
      "179/179 [==============================] - 1s 5ms/step - loss: 0.4111 - accuracy: 0.9123 - val_loss: 0.3906 - val_accuracy: 0.9381\n",
      "Epoch 13/1000\n",
      "179/179 [==============================] - 1s 5ms/step - loss: 0.3854 - accuracy: 0.9301 - val_loss: 0.3698 - val_accuracy: 0.9426\n",
      "Epoch 14/1000\n",
      "179/179 [==============================] - 1s 7ms/step - loss: 0.3681 - accuracy: 0.9348 - val_loss: 0.3515 - val_accuracy: 0.9498\n",
      "Epoch 15/1000\n",
      "179/179 [==============================] - 1s 6ms/step - loss: 0.3480 - accuracy: 0.9474 - val_loss: 0.3346 - val_accuracy: 0.9529\n",
      "Epoch 16/1000\n",
      "179/179 [==============================] - 1s 5ms/step - loss: 0.3285 - accuracy: 0.9557 - val_loss: 0.3209 - val_accuracy: 0.9538\n",
      "Epoch 17/1000\n",
      "179/179 [==============================] - 1s 5ms/step - loss: 0.3136 - accuracy: 0.9619 - val_loss: 0.3083 - val_accuracy: 0.9561\n",
      "Epoch 18/1000\n",
      "179/179 [==============================] - 1s 5ms/step - loss: 0.2942 - accuracy: 0.9688 - val_loss: 0.3037 - val_accuracy: 0.9565\n",
      "Epoch 19/1000\n",
      "179/179 [==============================] - 1s 5ms/step - loss: 0.2876 - accuracy: 0.9703 - val_loss: 0.2935 - val_accuracy: 0.9592\n",
      "Epoch 20/1000\n",
      "179/179 [==============================] - 1s 5ms/step - loss: 0.2812 - accuracy: 0.9721 - val_loss: 0.2888 - val_accuracy: 0.9597\n",
      "Epoch 21/1000\n",
      "179/179 [==============================] - 1s 5ms/step - loss: 0.2706 - accuracy: 0.9781 - val_loss: 0.2827 - val_accuracy: 0.9619\n",
      "Epoch 22/1000\n",
      "179/179 [==============================] - 1s 5ms/step - loss: 0.2630 - accuracy: 0.9779 - val_loss: 0.2806 - val_accuracy: 0.9637\n",
      "Epoch 23/1000\n",
      "179/179 [==============================] - 1s 5ms/step - loss: 0.2563 - accuracy: 0.9801 - val_loss: 0.2755 - val_accuracy: 0.9637\n",
      "Epoch 24/1000\n",
      "179/179 [==============================] - 1s 5ms/step - loss: 0.2495 - accuracy: 0.9802 - val_loss: 0.2698 - val_accuracy: 0.9623\n",
      "Epoch 25/1000\n",
      "179/179 [==============================] - 1s 5ms/step - loss: 0.2426 - accuracy: 0.9812 - val_loss: 0.2691 - val_accuracy: 0.9641\n",
      "Epoch 26/1000\n",
      "179/179 [==============================] - 1s 5ms/step - loss: 0.2353 - accuracy: 0.9838 - val_loss: 0.2685 - val_accuracy: 0.9623\n",
      "Epoch 27/1000\n",
      "179/179 [==============================] - 1s 7ms/step - loss: 0.2299 - accuracy: 0.9860 - val_loss: 0.2655 - val_accuracy: 0.9659\n",
      "Epoch 28/1000\n",
      "179/179 [==============================] - 1s 6ms/step - loss: 0.2279 - accuracy: 0.9854 - val_loss: 0.2627 - val_accuracy: 0.9637\n",
      "Epoch 29/1000\n",
      "179/179 [==============================] - 1s 6ms/step - loss: 0.2220 - accuracy: 0.9863 - val_loss: 0.2626 - val_accuracy: 0.9637\n",
      "Epoch 30/1000\n",
      "179/179 [==============================] - 1s 5ms/step - loss: 0.2187 - accuracy: 0.9867 - val_loss: 0.2562 - val_accuracy: 0.9646\n",
      "Epoch 31/1000\n",
      "179/179 [==============================] - 1s 5ms/step - loss: 0.2115 - accuracy: 0.9885 - val_loss: 0.2587 - val_accuracy: 0.9623\n",
      "Epoch 32/1000\n",
      "179/179 [==============================] - 1s 5ms/step - loss: 0.2120 - accuracy: 0.9860 - val_loss: 0.2555 - val_accuracy: 0.9628\n",
      "Epoch 32: early stopping\n"
     ]
    }
   ],
   "source": [
    "history = model.fit(tfidf_train1,y_train,batch_size=50,epochs=1000,verbose=1,validation_split=0.2,callbacks=callback)"
   ]
  },
  {
   "cell_type": "code",
   "execution_count": 97,
   "metadata": {
    "colab": {
     "base_uri": "https://localhost:8080/",
     "height": 447
    },
    "id": "EV24u2kyhNTJ",
    "outputId": "5bb128e4-14d9-42d4-a8a7-be4fc60333fc"
   },
   "outputs": [
    {
     "data": {
      "text/plain": [
       "[<matplotlib.lines.Line2D at 0x7fb4ae1144f0>]"
      ]
     },
     "execution_count": 97,
     "metadata": {},
     "output_type": "execute_result"
    },
    {
     "data": {
      "image/png": "[encoded data removed]",
      "text/plain": [
       "<Figure size 640x480 with 1 Axes>"
      ]
     },
     "metadata": {},
     "output_type": "display_data"
    }
   ],
   "source": [
    "plt.plot(history.history['loss'])\n",
    "plt.plot(history.history['val_loss'])"
   ]
  },
  {
   "cell_type": "code",
   "execution_count": 98,
   "metadata": {
    "colab": {
     "base_uri": "https://localhost:8080/",
     "height": 447
    },
    "id": "2d38tUAYhO0Z",
    "outputId": "df466bfd-26f3-46b5-f050-cba72e7e7abe"
   },
   "outputs": [
    {
     "data": {
      "text/plain": [
       "[<matplotlib.lines.Line2D at 0x7fb4ae167c70>]"
      ]
     },
     "execution_count": 98,
     "metadata": {},
     "output_type": "execute_result"
    },
    {
     "data": {
      "image/png": "[encoded data removed]",
      "text/plain": [
       "<Figure size 640x480 with 1 Axes>"
      ]
     },
     "metadata": {},
     "output_type": "display_data"
    }
   ],
   "source": [
    "plt.plot(history.history['accuracy'])\n",
    "plt.plot(history.history['val_accuracy'])"
   ]
  },
  {
   "cell_type": "code",
   "execution_count": 99,
   "metadata": {
    "colab": {
     "base_uri": "https://localhost:8080/"
    },
    "id": "-jxLniQrhY-B",
    "outputId": "4744babc-f250-47a1-fa49-8be641688f5d"
   },
   "outputs": [
    {
     "name": "stdout",
     "output_type": "stream",
     "text": [
      "88/88 [==============================] - 0s 2ms/step\n"
     ]
    },
    {
     "data": {
      "text/plain": [
       "array([0, 0, 1, ..., 0, 0, 0])"
      ]
     },
     "execution_count": 99,
     "metadata": {},
     "output_type": "execute_result"
    }
   ],
   "source": [
    "pred2 = model.predict(tfidf_test1)\n",
    "k1=pred2.argmax(axis=1)\n",
    "k1"
   ]
  },
  {
   "cell_type": "code",
   "execution_count": 100,
   "metadata": {
    "colab": {
     "base_uri": "https://localhost:8080/"
    },
    "id": "BM4XVKrthaiR",
    "outputId": "24d44a09-cf4d-4fa0-e759-b8f831acfb77"
   },
   "outputs": [
    {
     "name": "stdout",
     "output_type": "stream",
     "text": [
      "accuracy:   0.957\n"
     ]
    }
   ],
   "source": [
    "score2 = metrics.accuracy_score(y_test, k1)\n",
    "print(\"accuracy:   %0.3f\" % score2)"
   ]
  },
  {
   "cell_type": "code",
   "execution_count": 101,
   "metadata": {
    "colab": {
     "base_uri": "https://localhost:8080/"
    },
    "id": "wQw2VPfVfoeZ",
    "outputId": "4840d9bf-dff4-4961-ebb0-217c655c6350"
   },
   "outputs": [
    {
     "name": "stdout",
     "output_type": "stream",
     "text": [
      "              precision    recall  f1-score   support\n",
      "\n",
      "           0       0.96      0.98      0.97      1814\n",
      "           1       0.95      0.93      0.94       511\n",
      "           2       0.94      0.90      0.92       464\n",
      "\n",
      "    accuracy                           0.96      2789\n",
      "   macro avg       0.95      0.94      0.94      2789\n",
      "weighted avg       0.96      0.96      0.96      2789\n",
      "\n"
     ]
    }
   ],
   "source": [
    "from sklearn.metrics import classification_report\n",
    "print(classification_report(y_test,k1))"
   ]
  },
  {
   "cell_type": "code",
   "execution_count": 102,
   "metadata": {
    "colab": {
     "base_uri": "https://localhost:8080/",
     "height": 523
    },
    "id": "gn4fhfZAjxHU",
    "outputId": "1b2284e5-feed-4abb-9dc7-862f58ec3f5b"
   },
   "outputs": [
    {
     "name": "stdout",
     "output_type": "stream",
     "text": [
      "Confusion matrix, without normalization\n"
     ]
    },
    {
     "data": {
      "image/png": "[encoded data removed]",
      "text/plain": [
       "<Figure size 640x480 with 2 Axes>"
      ]
     },
     "metadata": {},
     "output_type": "display_data"
    }
   ],
   "source": [
    "cm = metrics.confusion_matrix(y_test, k1, labels=[0,1,2])\n",
    "plot_confusion_matrix(cm, classes=[0,1,2])"
   ]
  },
  {
   "cell_type": "code",
   "execution_count": null,
   "metadata": {
    "id": "lspodg_0KlDE"
   },
   "outputs": [],
   "source": []
  }
 ],
 "metadata": {
  "accelerator": "GPU",
  "colab": {
   "gpuType": "T4",
   "provenance": []
  },
  "gpuClass": "standard",
  "kernelspec": {
   "display_name": "Python 3 (ipykernel)",
   "language": "python",
   "name": "python3"
  },
  "language_info": {
   "codemirror_mode": {
    "name": "ipython",
    "version": 3
   },
   "file_extension": ".py",
   "mimetype": "text/x-python",
   "name": "python",
   "nbconvert_exporter": "python",
   "pygments_lexer": "ipython3",
   "version": "3.10.9"
  }
 },
 "nbformat": 4,
 "nbformat_minor": 1
}
